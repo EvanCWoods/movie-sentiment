{
  "nbformat": 4,
  "nbformat_minor": 0,
  "metadata": {
    "colab": {
      "name": "movie sentiment.ipynb",
      "provenance": [],
      "authorship_tag": "ABX9TyPC3l7ss7CnqW+YuUMvhUel",
      "include_colab_link": true
    },
    "kernelspec": {
      "display_name": "Python 3",
      "name": "python3"
    },
    "language_info": {
      "name": "python"
    }
  },
  "cells": [
    {
      "cell_type": "markdown",
      "metadata": {
        "id": "view-in-github",
        "colab_type": "text"
      },
      "source": [
        "<a href=\"https://colab.research.google.com/github/EvanCWoods/movie-sentiment/blob/model/movie_sentiment.ipynb\" target=\"_parent\"><img src=\"https://colab.research.google.com/assets/colab-badge.svg\" alt=\"Open In Colab\"/></a>"
      ]
    },
    {
      "cell_type": "code",
      "metadata": {
        "id": "KiyB4HaLT1Yx"
      },
      "source": [
        "# Import libraries\n",
        "import tensorflow as tf\n",
        "import numpy as np"
      ],
      "execution_count": 1,
      "outputs": []
    },
    {
      "cell_type": "code",
      "metadata": {
        "colab": {
          "base_uri": "https://localhost:8080/"
        },
        "id": "SfEuTiPLUHOQ",
        "outputId": "25eff28d-3599-4df8-c91b-2bc79293abc2"
      },
      "source": [
        "# Load the data\n",
        "imdb = tf.keras.datasets.imdb\n",
        "(train_data, train_labels), (test_data, test_labels) = imdb.load_data(num_words=10000)"
      ],
      "execution_count": 2,
      "outputs": [
        {
          "output_type": "stream",
          "text": [
            "<string>:6: VisibleDeprecationWarning: Creating an ndarray from ragged nested sequences (which is a list-or-tuple of lists-or-tuples-or ndarrays with different lengths or shapes) is deprecated. If you meant to do this, you must specify 'dtype=object' when creating the ndarray\n",
            "/usr/local/lib/python3.7/dist-packages/tensorflow/python/keras/datasets/imdb.py:155: VisibleDeprecationWarning: Creating an ndarray from ragged nested sequences (which is a list-or-tuple of lists-or-tuples-or ndarrays with different lengths or shapes) is deprecated. If you meant to do this, you must specify 'dtype=object' when creating the ndarray\n",
            "  x_train, y_train = np.array(xs[:idx]), np.array(labels[:idx])\n",
            "/usr/local/lib/python3.7/dist-packages/tensorflow/python/keras/datasets/imdb.py:156: VisibleDeprecationWarning: Creating an ndarray from ragged nested sequences (which is a list-or-tuple of lists-or-tuples-or ndarrays with different lengths or shapes) is deprecated. If you meant to do this, you must specify 'dtype=object' when creating the ndarray\n",
            "  x_test, y_test = np.array(xs[idx:]), np.array(labels[idx:])\n"
          ],
          "name": "stderr"
        }
      ]
    },
    {
      "cell_type": "code",
      "metadata": {
        "colab": {
          "base_uri": "https://localhost:8080/"
        },
        "id": "C7z1DAN5UJ_l",
        "outputId": "a29e66b7-a529-49c6-f8be-3cb6a89fcb3d"
      },
      "source": [
        "# Show the data\n",
        "print(len(train_data), len(test_data))\n",
        "print(train_data[0])\n",
        "print(test_data[0])"
      ],
      "execution_count": 3,
      "outputs": [
        {
          "output_type": "stream",
          "text": [
            "25000 25000\n",
            "[1, 14, 22, 16, 43, 530, 973, 1622, 1385, 65, 458, 4468, 66, 3941, 4, 173, 36, 256, 5, 25, 100, 43, 838, 112, 50, 670, 2, 9, 35, 480, 284, 5, 150, 4, 172, 112, 167, 2, 336, 385, 39, 4, 172, 4536, 1111, 17, 546, 38, 13, 447, 4, 192, 50, 16, 6, 147, 2025, 19, 14, 22, 4, 1920, 4613, 469, 4, 22, 71, 87, 12, 16, 43, 530, 38, 76, 15, 13, 1247, 4, 22, 17, 515, 17, 12, 16, 626, 18, 2, 5, 62, 386, 12, 8, 316, 8, 106, 5, 4, 2223, 5244, 16, 480, 66, 3785, 33, 4, 130, 12, 16, 38, 619, 5, 25, 124, 51, 36, 135, 48, 25, 1415, 33, 6, 22, 12, 215, 28, 77, 52, 5, 14, 407, 16, 82, 2, 8, 4, 107, 117, 5952, 15, 256, 4, 2, 7, 3766, 5, 723, 36, 71, 43, 530, 476, 26, 400, 317, 46, 7, 4, 2, 1029, 13, 104, 88, 4, 381, 15, 297, 98, 32, 2071, 56, 26, 141, 6, 194, 7486, 18, 4, 226, 22, 21, 134, 476, 26, 480, 5, 144, 30, 5535, 18, 51, 36, 28, 224, 92, 25, 104, 4, 226, 65, 16, 38, 1334, 88, 12, 16, 283, 5, 16, 4472, 113, 103, 32, 15, 16, 5345, 19, 178, 32]\n",
            "[1, 591, 202, 14, 31, 6, 717, 10, 10, 2, 2, 5, 4, 360, 7, 4, 177, 5760, 394, 354, 4, 123, 9, 1035, 1035, 1035, 10, 10, 13, 92, 124, 89, 488, 7944, 100, 28, 1668, 14, 31, 23, 27, 7479, 29, 220, 468, 8, 124, 14, 286, 170, 8, 157, 46, 5, 27, 239, 16, 179, 2, 38, 32, 25, 7944, 451, 202, 14, 6, 717]\n"
          ],
          "name": "stdout"
        }
      ]
    },
    {
      "cell_type": "code",
      "metadata": {
        "id": "4R-YMfDjUMEC"
      },
      "source": [
        "# Word index\n",
        "word_index = imdb.get_word_index()\n",
        "word_index = {k:(v+3) for k,v in word_index.items()}\n",
        "# Reserve word index 0-3\n",
        "word_index['<PAD>'] = 0\n",
        "word_index['<START>'] = 1\n",
        "word_index['<UNK>'] = 2\n",
        "word_index['<UNISED>'] = 3\n",
        "# Reverse word index\n",
        "reverse_word_index = dict([(value, key) for (key, value) in word_index.items()])"
      ],
      "execution_count": 4,
      "outputs": []
    },
    {
      "cell_type": "code",
      "metadata": {
        "colab": {
          "base_uri": "https://localhost:8080/"
        },
        "id": "GKGmR_OjUQX3",
        "outputId": "8e7cadef-cb04-4f0a-b0f6-effd7d499210"
      },
      "source": [
        "# Pad the data\n",
        "train_data = tf.keras.preprocessing.sequence.pad_sequences(train_data, \n",
        "                                                           maxlen=256, \n",
        "                                                           padding='post',\n",
        "                                                           value=word_index['<PAD>'])\n",
        "test_data = tf.keras.preprocessing.sequence.pad_sequences(test_data,\n",
        "                                                         maxlen=256,\n",
        "                                                         padding='post',\n",
        "                                                         value=word_index['<PAD>']) \n",
        "\n",
        "# Check the padding\n",
        "print(len(train_data[0]), len(test_data[0]))"
      ],
      "execution_count": 5,
      "outputs": [
        {
          "output_type": "stream",
          "text": [
            "256 256\n"
          ],
          "name": "stdout"
        }
      ]
    },
    {
      "cell_type": "code",
      "metadata": {
        "colab": {
          "base_uri": "https://localhost:8080/"
        },
        "id": "sBIv9qJ3UUBx",
        "outputId": "254ed3cf-10e5-4805-d815-fea468ade145"
      },
      "source": [
        "# Decode the data\n",
        "def decode_review(text):\n",
        "  return ' '.join([reverse_word_index.get(i, '?') for i in text])\n",
        "\n",
        "print(decode_review(train_data[0]))"
      ],
      "execution_count": 6,
      "outputs": [
        {
          "output_type": "stream",
          "text": [
            "<START> this film was just brilliant casting location scenery story direction everyone's really suited the part they played and you could just imagine being there robert <UNK> is an amazing actor and now the same being director <UNK> father came from the same scottish island as myself so i loved the fact there was a real connection with this film the witty remarks throughout the film were great it was just brilliant so much that i bought the film as soon as it was released for <UNK> and would recommend it to everyone to watch and the fly fishing was amazing really cried at the end it was so sad and you know what they say if you cry at a film it must have been good and this definitely was also <UNK> to the two little boy's that played the <UNK> of norman and paul they were just brilliant children are often left out of the <UNK> list i think because the stars that play them all grown up are such a big profile for the whole film but these children are amazing and should be praised for what they have done don't you think the whole story was so lovely because it was true and was someone's life after all that was shared with us all <PAD> <PAD> <PAD> <PAD> <PAD> <PAD> <PAD> <PAD> <PAD> <PAD> <PAD> <PAD> <PAD> <PAD> <PAD> <PAD> <PAD> <PAD> <PAD> <PAD> <PAD> <PAD> <PAD> <PAD> <PAD> <PAD> <PAD> <PAD> <PAD> <PAD> <PAD> <PAD> <PAD> <PAD> <PAD> <PAD> <PAD> <PAD>\n"
          ],
          "name": "stdout"
        }
      ]
    },
    {
      "cell_type": "code",
      "metadata": {
        "id": "I2nCgLw4XthL"
      },
      "source": [
        "val_data = test_data[:10000]\n",
        "val_labels = test_labels[:10000]\n",
        "test_data = test_data[10000:]\n",
        "test_labels = test_labels[10000:]"
      ],
      "execution_count": 7,
      "outputs": []
    },
    {
      "cell_type": "code",
      "metadata": {
        "colab": {
          "base_uri": "https://localhost:8080/"
        },
        "id": "Q4U6zmqCWZ3H",
        "outputId": "10b53327-1132-470e-8515-9fdad9c73029"
      },
      "source": [
        "# Create the model\n",
        "tf.random.set_seed(42)\n",
        "\n",
        "model = tf.keras.Sequential()\n",
        "model.add(tf.keras.layers.Embedding(10000, 16))\n",
        "model.add(tf.keras.layers.GlobalAveragePooling1D())\n",
        "model.add(tf.keras.layers.Dense(16, activation='relu'))\n",
        "model.add(tf.keras.layers.Dense(32, activation='relu'))\n",
        "model.add(tf.keras.layers.Dropout(rate=0.2))\n",
        "model.add(tf.keras.layers.Dense(1, activation='sigmoid'))\n",
        "\n",
        "model.compile(loss='binary_crossentropy',\n",
        "                optimizer='adam',\n",
        "                metrics=['accuracy'])\n",
        "  \n",
        "history = model.fit(train_data, \n",
        "                      train_labels,\n",
        "                      epochs=10,\n",
        "                      batch_size=512,\n",
        "                      validation_data=(val_data, val_labels))"
      ],
      "execution_count": 24,
      "outputs": [
        {
          "output_type": "stream",
          "text": [
            "Epoch 1/10\n",
            "49/49 [==============================] - 2s 21ms/step - loss: 0.6918 - accuracy: 0.6041 - val_loss: 0.6886 - val_accuracy: 0.7118\n",
            "Epoch 2/10\n",
            "49/49 [==============================] - 1s 18ms/step - loss: 0.6754 - accuracy: 0.7411 - val_loss: 0.6502 - val_accuracy: 0.7829\n",
            "Epoch 3/10\n",
            "49/49 [==============================] - 1s 18ms/step - loss: 0.5829 - accuracy: 0.8088 - val_loss: 0.5069 - val_accuracy: 0.8151\n",
            "Epoch 4/10\n",
            "49/49 [==============================] - 1s 18ms/step - loss: 0.4168 - accuracy: 0.8520 - val_loss: 0.3687 - val_accuracy: 0.8547\n",
            "Epoch 5/10\n",
            "49/49 [==============================] - 1s 18ms/step - loss: 0.3100 - accuracy: 0.8825 - val_loss: 0.3206 - val_accuracy: 0.8680\n",
            "Epoch 6/10\n",
            "49/49 [==============================] - 1s 18ms/step - loss: 0.2588 - accuracy: 0.9012 - val_loss: 0.2985 - val_accuracy: 0.8753\n",
            "Epoch 7/10\n",
            "49/49 [==============================] - 1s 18ms/step - loss: 0.2266 - accuracy: 0.9156 - val_loss: 0.2904 - val_accuracy: 0.8784\n",
            "Epoch 8/10\n",
            "49/49 [==============================] - 1s 18ms/step - loss: 0.2018 - accuracy: 0.9264 - val_loss: 0.2902 - val_accuracy: 0.8801\n",
            "Epoch 9/10\n",
            "49/49 [==============================] - 1s 18ms/step - loss: 0.1841 - accuracy: 0.9338 - val_loss: 0.2933 - val_accuracy: 0.8801\n",
            "Epoch 10/10\n",
            "49/49 [==============================] - 1s 19ms/step - loss: 0.1684 - accuracy: 0.9397 - val_loss: 0.2960 - val_accuracy: 0.8818\n"
          ],
          "name": "stdout"
        }
      ]
    },
    {
      "cell_type": "code",
      "metadata": {
        "id": "bZPajv0_Wsjh",
        "colab": {
          "base_uri": "https://localhost:8080/"
        },
        "outputId": "c8673715-9b34-4629-9c4d-5dc89804cdfd"
      },
      "source": [
        "results = model.evaluate(test_data, test_labels)\n",
        "print(results)"
      ],
      "execution_count": 25,
      "outputs": [
        {
          "output_type": "stream",
          "text": [
            "469/469 [==============================] - 1s 2ms/step - loss: 0.2959 - accuracy: 0.8817\n",
            "[0.295852929353714, 0.8817333579063416]\n"
          ],
          "name": "stdout"
        }
      ]
    },
    {
      "cell_type": "code",
      "metadata": {
        "colab": {
          "base_uri": "https://localhost:8080/",
          "height": 281
        },
        "id": "YiSE1NORZ2d-",
        "outputId": "dc881f23-3423-4a5a-8706-4ae6ce76e887"
      },
      "source": [
        "import matplotlib.pyplot as plt\n",
        "\n",
        "def show_model_results(history):\n",
        "  plt.plot(history.history['accuracy'], c='b', marker='o', label='accuracy')\n",
        "  plt.plot(history.history['val_accuracy'], c='b', label='val_accuracy')\n",
        "  plt.plot(history.history['loss'], c='g', marker='o', label='loss')\n",
        "  plt.plot(history.history['val_loss'], c='g', label='val_loss')\n",
        "  plt.title('Model performance')\n",
        "\n",
        "show_model_results(history=history)"
      ],
      "execution_count": 32,
      "outputs": [
        {
          "output_type": "display_data",
          "data": {
            "image/png": "[encoded data removed]",
            "text/plain": [
              "<Figure size 432x288 with 1 Axes>"
            ]
          },
          "metadata": {
            "tags": [],
            "needs_background": "light"
          }
        }
      ]
    },
    {
      "cell_type": "code",
      "metadata": {
        "id": "kZrkxs22bdbO"
      },
      "source": [
        ""
      ],
      "execution_count": null,
      "outputs": []
    }
  ]
}