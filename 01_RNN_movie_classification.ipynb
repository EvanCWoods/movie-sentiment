{
  "nbformat": 4,
  "nbformat_minor": 0,
  "metadata": {
    "colab": {
      "name": "RNN movie classification.ipynb",
      "provenance": [],
      "collapsed_sections": [],
      "authorship_tag": "ABX9TyMZqT+j1fx+rtU0JQPE1dgG"
    },
    "kernelspec": {
      "name": "python3",
      "display_name": "Python 3"
    },
    "language_info": {
      "name": "python"
    }
  },
  "cells": [
    {
      "cell_type": "code",
      "metadata": {
        "id": "hXtdlI-OFvPI"
      },
      "source": [
        "import tensorflow as tf\n",
        "import numpy as np"
      ],
      "execution_count": 60,
      "outputs": []
    },
    {
      "cell_type": "code",
      "metadata": {
        "colab": {
          "base_uri": "https://localhost:8080/"
        },
        "id": "Zn53nmiRF09V",
        "outputId": "713a5ed2-bd2f-4097-8041-8776520478c1"
      },
      "source": [
        "imdb = tf.keras.datasets.imdb\n",
        "(train_data, train_labels), (test_data, test_labels) = imdb.load_data(num_words=10000)"
      ],
      "execution_count": 61,
      "outputs": [
        {
          "output_type": "stream",
          "text": [
            "<string>:6: VisibleDeprecationWarning: Creating an ndarray from ragged nested sequences (which is a list-or-tuple of lists-or-tuples-or ndarrays with different lengths or shapes) is deprecated. If you meant to do this, you must specify 'dtype=object' when creating the ndarray\n",
            "/usr/local/lib/python3.7/dist-packages/tensorflow/python/keras/datasets/imdb.py:155: VisibleDeprecationWarning: Creating an ndarray from ragged nested sequences (which is a list-or-tuple of lists-or-tuples-or ndarrays with different lengths or shapes) is deprecated. If you meant to do this, you must specify 'dtype=object' when creating the ndarray\n",
            "  x_train, y_train = np.array(xs[:idx]), np.array(labels[:idx])\n",
            "/usr/local/lib/python3.7/dist-packages/tensorflow/python/keras/datasets/imdb.py:156: VisibleDeprecationWarning: Creating an ndarray from ragged nested sequences (which is a list-or-tuple of lists-or-tuples-or ndarrays with different lengths or shapes) is deprecated. If you meant to do this, you must specify 'dtype=object' when creating the ndarray\n",
            "  x_test, y_test = np.array(xs[idx:]), np.array(labels[idx:])\n"
          ],
          "name": "stderr"
        }
      ]
    },
    {
      "cell_type": "code",
      "metadata": {
        "id": "hcIcUT_qF7c8"
      },
      "source": [
        "# Create the word index\n",
        "word_index = imdb.get_word_index()\n",
        "word_index = {k:(v+3) for k,v in word_index.items()}\n",
        "# Reserve word index 0:3\n",
        "word_index['<PAD>'] = 0\n",
        "word_index['<START>'] = 1\n",
        "word_index['<UNK>'] = 2\n",
        "word_index['<UNUSED>'] = 3\n",
        "# Reverse the word index\n",
        "reverse_word_index = dict([(value, key) for (key, value) in word_index.items()])"
      ],
      "execution_count": 62,
      "outputs": []
    },
    {
      "cell_type": "code",
      "metadata": {
        "colab": {
          "base_uri": "https://localhost:8080/"
        },
        "id": "8an52rBGGXL-",
        "outputId": "1a97e0fb-0269-4c7b-c0a0-522eb05e9177"
      },
      "source": [
        "# Pad the data\n",
        "train_data = tf.keras.preprocessing.sequence.pad_sequences(train_data,\n",
        "                                                           maxlen=256,\n",
        "                                                           padding='post',\n",
        "                                                           value=word_index['<PAD>'])\n",
        "                                              \n",
        "test_data = tf.keras.preprocessing.sequence.pad_sequences(test_data,\n",
        "                                                          maxlen=256,\n",
        "                                                          padding='post',\n",
        "                                                          value=word_index['<PAD>'])\n",
        "# Check the padding\n",
        "print(len(train_data[0]), len(test_data[0]))"
      ],
      "execution_count": 63,
      "outputs": [
        {
          "output_type": "stream",
          "text": [
            "256 256\n"
          ],
          "name": "stdout"
        }
      ]
    },
    {
      "cell_type": "code",
      "metadata": {
        "colab": {
          "base_uri": "https://localhost:8080/"
        },
        "id": "J2LD72WcG4ac",
        "outputId": "0957f4a0-65af-465f-e2d0-40bba3d57ef4"
      },
      "source": [
        "# Decode the data\n",
        "def decode_review(text):\n",
        "  return ' '.join([reverse_word_index.get(i, '?') for i in text])\n",
        "\n",
        "print(decode_review(train_data[0]))"
      ],
      "execution_count": 64,
      "outputs": [
        {
          "output_type": "stream",
          "text": [
            "<START> this film was just brilliant casting location scenery story direction everyone's really suited the part they played and you could just imagine being there robert <UNK> is an amazing actor and now the same being director <UNK> father came from the same scottish island as myself so i loved the fact there was a real connection with this film the witty remarks throughout the film were great it was just brilliant so much that i bought the film as soon as it was released for <UNK> and would recommend it to everyone to watch and the fly fishing was amazing really cried at the end it was so sad and you know what they say if you cry at a film it must have been good and this definitely was also <UNK> to the two little boy's that played the <UNK> of norman and paul they were just brilliant children are often left out of the <UNK> list i think because the stars that play them all grown up are such a big profile for the whole film but these children are amazing and should be praised for what they have done don't you think the whole story was so lovely because it was true and was someone's life after all that was shared with us all <PAD> <PAD> <PAD> <PAD> <PAD> <PAD> <PAD> <PAD> <PAD> <PAD> <PAD> <PAD> <PAD> <PAD> <PAD> <PAD> <PAD> <PAD> <PAD> <PAD> <PAD> <PAD> <PAD> <PAD> <PAD> <PAD> <PAD> <PAD> <PAD> <PAD> <PAD> <PAD> <PAD> <PAD> <PAD> <PAD> <PAD> <PAD>\n"
          ],
          "name": "stdout"
        }
      ]
    },
    {
      "cell_type": "code",
      "metadata": {
        "id": "hyj0pmYqHKpD"
      },
      "source": [
        "# Create a validation dataset and update the test dataset\n",
        "val_data = test_data[:10000]\n",
        "val_labels = test_labels[:10000]\n",
        "test_data = test_data[10000:]\n",
        "test_labels = test_labels[10000:]"
      ],
      "execution_count": 65,
      "outputs": []
    },
    {
      "cell_type": "code",
      "metadata": {
        "colab": {
          "base_uri": "https://localhost:8080/"
        },
        "id": "mVEhLeE2HQVj",
        "outputId": "80843391-5d2e-4800-8770-962ad99ae615"
      },
      "source": [
        "# Create the model\n",
        "tf.random.set_seed(42)\n",
        "\n",
        "model = tf.keras.Sequential([\n",
        "  tf.keras.layers.Embedding(10000, 16),\n",
        "  tf.keras.layers.GlobalAveragePooling1D(),\n",
        "  tf.keras.layers.Dense(64, activation='relu'),\n",
        "  tf.keras.layers.Dense(1, activation='sigmoid')\n",
        "])\n",
        "\n",
        "model.compile(loss='binary_crossentropy',\n",
        "              optimizer='adam',\n",
        "              metrics=['accuracy'])\n",
        "\n",
        "history = model.fit(train_data, train_labels,\n",
        "                    epochs=10,\n",
        "                    validation_data=(val_data, val_labels))"
      ],
      "execution_count": 66,
      "outputs": [
        {
          "output_type": "stream",
          "text": [
            "Epoch 1/10\n",
            "782/782 [==============================] - 5s 6ms/step - loss: 0.4484 - accuracy: 0.8038 - val_loss: 0.3009 - val_accuracy: 0.8736\n",
            "Epoch 2/10\n",
            "782/782 [==============================] - 4s 6ms/step - loss: 0.2363 - accuracy: 0.9078 - val_loss: 0.2797 - val_accuracy: 0.8841\n",
            "Epoch 3/10\n",
            "782/782 [==============================] - 4s 5ms/step - loss: 0.1868 - accuracy: 0.9294 - val_loss: 0.2958 - val_accuracy: 0.8778\n",
            "Epoch 4/10\n",
            "782/782 [==============================] - 4s 6ms/step - loss: 0.1528 - accuracy: 0.9460 - val_loss: 0.3185 - val_accuracy: 0.8787\n",
            "Epoch 5/10\n",
            "782/782 [==============================] - 4s 5ms/step - loss: 0.1297 - accuracy: 0.9557 - val_loss: 0.3505 - val_accuracy: 0.8722\n",
            "Epoch 6/10\n",
            "782/782 [==============================] - 4s 5ms/step - loss: 0.1120 - accuracy: 0.9628 - val_loss: 0.3910 - val_accuracy: 0.8661\n",
            "Epoch 7/10\n",
            "782/782 [==============================] - 4s 5ms/step - loss: 0.0958 - accuracy: 0.9687 - val_loss: 0.4479 - val_accuracy: 0.8539\n",
            "Epoch 8/10\n",
            "782/782 [==============================] - 4s 5ms/step - loss: 0.0831 - accuracy: 0.9746 - val_loss: 0.5011 - val_accuracy: 0.8489\n",
            "Epoch 9/10\n",
            "782/782 [==============================] - 4s 6ms/step - loss: 0.0704 - accuracy: 0.9789 - val_loss: 0.5150 - val_accuracy: 0.8538\n",
            "Epoch 10/10\n",
            "782/782 [==============================] - 4s 5ms/step - loss: 0.0616 - accuracy: 0.9826 - val_loss: 0.5649 - val_accuracy: 0.8482\n"
          ],
          "name": "stdout"
        }
      ]
    },
    {
      "cell_type": "code",
      "metadata": {
        "id": "Ua7uCGEvIBHq"
      },
      "source": [
        "import matplotlib.pyplot as plt\n",
        "\n",
        "# Function to show the model results\n",
        "def show_model_results(history):\n",
        "  plt.plot(history.history['accuracy'], c='b', marker='o', label='accuracy')\n",
        "  plt.plot(history.history['val_accuracy'], c='b', label='val_accuracy')\n",
        "  plt.plot(history.history['loss'], c='g', marker='o', label='loss')\n",
        "  plt.plot(history.history['val_loss'], c='g', label='val_loss')\n",
        "  plt.title('Model performance')\n",
        "  plt.xlabel('Epochs')\n",
        "  plt.ylabel('Accuracy & loss')\n",
        "  plt.legend()\n"
      ],
      "execution_count": 69,
      "outputs": []
    },
    {
      "cell_type": "code",
      "metadata": {
        "colab": {
          "base_uri": "https://localhost:8080/",
          "height": 295
        },
        "id": "44BbW-mCPA1D",
        "outputId": "bf174d90-a69e-4206-dec3-e102ea41278d"
      },
      "source": [
        "show_model_results(history=history)"
      ],
      "execution_count": 70,
      "outputs": [
        {
          "output_type": "display_data",
          "data": {
            "image/png": "[encoded data removed]",
            "text/plain": [
              "<Figure size 432x288 with 1 Axes>"
            ]
          },
          "metadata": {
            "tags": [],
            "needs_background": "light"
          }
        }
      ]
    },
    {
      "cell_type": "code",
      "metadata": {
        "id": "RWVBHKe2Ps0I"
      },
      "source": [
        ""
      ],
      "execution_count": null,
      "outputs": []
    }
  ]
}