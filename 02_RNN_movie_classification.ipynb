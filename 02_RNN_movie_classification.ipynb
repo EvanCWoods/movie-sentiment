{
  "nbformat": 4,
  "nbformat_minor": 0,
  "metadata": {
    "colab": {
      "name": "RNN movie classification.ipynb",
      "provenance": [],
      "collapsed_sections": [],
      "authorship_tag": "ABX9TyPH9ZfYx75uVFZxPCOqYrzC"
    },
    "kernelspec": {
      "name": "python3",
      "display_name": "Python 3"
    },
    "language_info": {
      "name": "python"
    }
  },
  "cells": [
    {
      "cell_type": "code",
      "metadata": {
        "id": "hXtdlI-OFvPI"
      },
      "source": [
        "import tensorflow as tf\n",
        "import numpy as np"
      ],
      "execution_count": 33,
      "outputs": []
    },
    {
      "cell_type": "code",
      "metadata": {
        "colab": {
          "base_uri": "https://localhost:8080/"
        },
        "id": "Zn53nmiRF09V",
        "outputId": "9e23c830-1e29-4f58-8552-5a7951e75c5e"
      },
      "source": [
        "imdb = tf.keras.datasets.imdb\n",
        "(train_data, train_labels), (test_data, test_labels) = imdb.load_data(num_words=10000)"
      ],
      "execution_count": 47,
      "outputs": [
        {
          "output_type": "stream",
          "text": [
            "<string>:6: VisibleDeprecationWarning: Creating an ndarray from ragged nested sequences (which is a list-or-tuple of lists-or-tuples-or ndarrays with different lengths or shapes) is deprecated. If you meant to do this, you must specify 'dtype=object' when creating the ndarray\n",
            "/usr/local/lib/python3.7/dist-packages/tensorflow/python/keras/datasets/imdb.py:155: VisibleDeprecationWarning: Creating an ndarray from ragged nested sequences (which is a list-or-tuple of lists-or-tuples-or ndarrays with different lengths or shapes) is deprecated. If you meant to do this, you must specify 'dtype=object' when creating the ndarray\n",
            "  x_train, y_train = np.array(xs[:idx]), np.array(labels[:idx])\n",
            "/usr/local/lib/python3.7/dist-packages/tensorflow/python/keras/datasets/imdb.py:156: VisibleDeprecationWarning: Creating an ndarray from ragged nested sequences (which is a list-or-tuple of lists-or-tuples-or ndarrays with different lengths or shapes) is deprecated. If you meant to do this, you must specify 'dtype=object' when creating the ndarray\n",
            "  x_test, y_test = np.array(xs[idx:]), np.array(labels[idx:])\n"
          ],
          "name": "stderr"
        }
      ]
    },
    {
      "cell_type": "code",
      "metadata": {
        "id": "hcIcUT_qF7c8"
      },
      "source": [
        "# Create the word index\n",
        "word_index = imdb.get_word_index()\n",
        "word_index = {k:(v+3) for k,v in word_index.items()}\n",
        "# Reserve word index 0:3\n",
        "word_index['<PAD>'] = 0\n",
        "word_index['<START>'] = 1\n",
        "word_index['<UNK>'] = 2\n",
        "word_index['<UNUSED>'] = 3\n",
        "# Reverse the word index\n",
        "reverse_word_index = dict([(value, key) for (key, value) in word_index.items()])"
      ],
      "execution_count": 48,
      "outputs": []
    },
    {
      "cell_type": "code",
      "metadata": {
        "colab": {
          "base_uri": "https://localhost:8080/"
        },
        "id": "8an52rBGGXL-",
        "outputId": "8564ef24-abcb-4f5e-c7b8-cc8b4d69690b"
      },
      "source": [
        "# Pad the data\n",
        "train_data = tf.keras.preprocessing.sequence.pad_sequences(train_data,\n",
        "                                                           maxlen=256,\n",
        "                                                           padding='post',\n",
        "                                                           value=word_index['<PAD>'])\n",
        "                                              \n",
        "test_data = tf.keras.preprocessing.sequence.pad_sequences(test_data,\n",
        "                                                          maxlen=256,\n",
        "                                                          padding='post',\n",
        "                                                          value=word_index['<PAD>'])\n",
        "# Check the padding\n",
        "print(len(train_data[0]), len(test_data[0]))"
      ],
      "execution_count": 49,
      "outputs": [
        {
          "output_type": "stream",
          "text": [
            "256 256\n"
          ],
          "name": "stdout"
        }
      ]
    },
    {
      "cell_type": "code",
      "metadata": {
        "colab": {
          "base_uri": "https://localhost:8080/"
        },
        "id": "J2LD72WcG4ac",
        "outputId": "45ba3a41-de2e-4c7f-a1be-c974e8296fad"
      },
      "source": [
        "# Decode the data\n",
        "def decode_review(text):\n",
        "  return ' '.join([reverse_word_index.get(i, '?') for i in text])\n",
        "\n",
        "print(decode_review(train_data[0]))"
      ],
      "execution_count": 50,
      "outputs": [
        {
          "output_type": "stream",
          "text": [
            "<START> this film was just brilliant casting location scenery story direction everyone's really suited the part they played and you could just imagine being there robert <UNK> is an amazing actor and now the same being director <UNK> father came from the same scottish island as myself so i loved the fact there was a real connection with this film the witty remarks throughout the film were great it was just brilliant so much that i bought the film as soon as it was released for <UNK> and would recommend it to everyone to watch and the fly fishing was amazing really cried at the end it was so sad and you know what they say if you cry at a film it must have been good and this definitely was also <UNK> to the two little boy's that played the <UNK> of norman and paul they were just brilliant children are often left out of the <UNK> list i think because the stars that play them all grown up are such a big profile for the whole film but these children are amazing and should be praised for what they have done don't you think the whole story was so lovely because it was true and was someone's life after all that was shared with us all <PAD> <PAD> <PAD> <PAD> <PAD> <PAD> <PAD> <PAD> <PAD> <PAD> <PAD> <PAD> <PAD> <PAD> <PAD> <PAD> <PAD> <PAD> <PAD> <PAD> <PAD> <PAD> <PAD> <PAD> <PAD> <PAD> <PAD> <PAD> <PAD> <PAD> <PAD> <PAD> <PAD> <PAD> <PAD> <PAD> <PAD> <PAD>\n"
          ],
          "name": "stdout"
        }
      ]
    },
    {
      "cell_type": "code",
      "metadata": {
        "id": "hyj0pmYqHKpD"
      },
      "source": [
        "# Create a validation dataset and update the test dataset\n",
        "val_data = test_data[:10000]\n",
        "val_labels = test_labels[:10000]\n",
        "test_data = test_data[10000:]\n",
        "test_labels = test_labels[10000:]"
      ],
      "execution_count": 51,
      "outputs": []
    },
    {
      "cell_type": "code",
      "metadata": {
        "colab": {
          "base_uri": "https://localhost:8080/"
        },
        "id": "mVEhLeE2HQVj",
        "outputId": "08c03e34-602d-45e2-e79c-79e907bd3122"
      },
      "source": [
        "# Create the model\n",
        "tf.random.set_seed(42)\n",
        "\n",
        "model = tf.keras.Sequential([\n",
        "  tf.keras.layers.Embedding(10000, 16),\n",
        "  tf.keras.layers.Bidirectional(tf.keras.layers.LSTM(64)),\n",
        "  tf.keras.layers.Dense(64, activation='relu'),\n",
        "  tf.keras.layers.Dropout(0.2),\n",
        "  tf.keras.layers.Dense(32, activation='relu'),\n",
        "  tf.keras.layers.Dropout(0.2),\n",
        "  tf.keras.layers.Dense(16, activation='relu'),\n",
        "  tf.keras.layers.Dropout(0.2),\n",
        "  tf.keras.layers.Dense(1, activation='sigmoid')\n",
        "])\n",
        "\n",
        "model.compile(loss='binary_crossentropy',\n",
        "              optimizer='adam',\n",
        "              metrics=['accuracy'])\n",
        "\n",
        "history = model.fit(train_data, train_labels,\n",
        "                    epochs=10,\n",
        "                    validation_data=(val_data, val_labels))"
      ],
      "execution_count": 56,
      "outputs": [
        {
          "output_type": "stream",
          "text": [
            "Epoch 1/10\n",
            "782/782 [==============================] - 212s 216ms/step - loss: 0.5833 - accuracy: 0.6876 - val_loss: 0.5313 - val_accuracy: 0.7520\n",
            "Epoch 2/10\n",
            "782/782 [==============================] - 168s 215ms/step - loss: 0.5065 - accuracy: 0.7646 - val_loss: 0.4284 - val_accuracy: 0.8241\n",
            "Epoch 3/10\n",
            "782/782 [==============================] - 167s 213ms/step - loss: 0.3487 - accuracy: 0.8592 - val_loss: 0.3463 - val_accuracy: 0.8532\n",
            "Epoch 4/10\n",
            "782/782 [==============================] - 167s 213ms/step - loss: 0.2485 - accuracy: 0.9079 - val_loss: 0.3350 - val_accuracy: 0.8654\n",
            "Epoch 5/10\n",
            "782/782 [==============================] - 167s 214ms/step - loss: 0.1972 - accuracy: 0.9305 - val_loss: 0.3607 - val_accuracy: 0.8611\n",
            "Epoch 6/10\n",
            "782/782 [==============================] - 167s 214ms/step - loss: 0.1742 - accuracy: 0.9385 - val_loss: 0.3642 - val_accuracy: 0.8592\n",
            "Epoch 7/10\n",
            "782/782 [==============================] - 167s 214ms/step - loss: 0.1357 - accuracy: 0.9558 - val_loss: 0.4106 - val_accuracy: 0.8449\n",
            "Epoch 8/10\n",
            "782/782 [==============================] - 166s 213ms/step - loss: 0.1125 - accuracy: 0.9628 - val_loss: 0.4795 - val_accuracy: 0.8472\n",
            "Epoch 9/10\n",
            "782/782 [==============================] - 167s 213ms/step - loss: 0.1133 - accuracy: 0.9636 - val_loss: 0.5470 - val_accuracy: 0.8550\n",
            "Epoch 10/10\n",
            "782/782 [==============================] - 168s 215ms/step - loss: 0.0859 - accuracy: 0.9723 - val_loss: 0.6208 - val_accuracy: 0.8398\n"
          ],
          "name": "stdout"
        }
      ]
    },
    {
      "cell_type": "code",
      "metadata": {
        "id": "Ua7uCGEvIBHq"
      },
      "source": [
        "import matplotlib.pyplot as plt\n",
        "\n",
        "# Function to show the model results\n",
        "def show_model_results(history):\n",
        "  plt.plot(history.history['accuracy'], c='b', marker='o', label='accuracy')\n",
        "  plt.plot(history.history['val_accuracy'], c='b', label='val_accuracy')\n",
        "  plt.plot(history.history['loss'], c='g', marker='o', label='loss')\n",
        "  plt.plot(history.history['val_loss'], c='g', label='val_loss')\n",
        "  plt.title('Model performance')\n",
        "  plt.xlabel('Epochs')\n",
        "  plt.ylabel('Accuracy & loss')\n",
        "  plt.legend()\n"
      ],
      "execution_count": 53,
      "outputs": []
    },
    {
      "cell_type": "code",
      "metadata": {
        "colab": {
          "base_uri": "https://localhost:8080/",
          "height": 295
        },
        "id": "44BbW-mCPA1D",
        "outputId": "81ca7a6f-bd5a-477f-d128-fb1ebf4107d5"
      },
      "source": [
        "show_model_results(history=history)"
      ],
      "execution_count": 54,
      "outputs": [
        {
          "output_type": "display_data",
          "data": {
            "image/png": "[encoded data removed]",
            "text/plain": [
              "<Figure size 432x288 with 1 Axes>"
            ]
          },
          "metadata": {
            "tags": [],
            "needs_background": "light"
          }
        }
      ]
    },
    {
      "cell_type": "code",
      "metadata": {
        "id": "RWVBHKe2Ps0I"
      },
      "source": [
        ""
      ],
      "execution_count": null,
      "outputs": []
    }
  ]
}