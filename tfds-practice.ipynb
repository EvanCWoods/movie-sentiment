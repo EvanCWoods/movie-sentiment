{
  "nbformat": 4,
  "nbformat_minor": 0,
  "metadata": {
    "colab": {
      "name": "Untitled6.ipynb",
      "provenance": [],
      "authorship_tag": "ABX9TyPOVkh0C8kZ1SBUxFjA5jHm"
    },
    "kernelspec": {
      "display_name": "Python 3",
      "name": "python3"
    },
    "language_info": {
      "name": "python"
    }
  },
  "cells": [
    {
      "cell_type": "code",
      "metadata": {
        "id": "E1yi9LIub9L6"
      },
      "source": [
        "import tensorflow as tf\n",
        "import tensorflow_datasets as tfds\n",
        "import numpy as np\n",
        "import matplotlib.pyplot as plt"
      ],
      "execution_count": 121,
      "outputs": []
    },
    {
      "cell_type": "code",
      "metadata": {
        "colab": {
          "base_uri": "https://localhost:8080/"
        },
        "id": "oF4OSWuJcCqA",
        "outputId": "b179090a-44ce-4754-de95-cc0a7c0bbaeb"
      },
      "source": [
        "train_ds, test_ds = tfds.load('imdb_reviews', split=['train', 'test'],as_supervised=True)\n",
        "\n",
        "print(train_ds)\n",
        "print(test_ds)"
      ],
      "execution_count": 122,
      "outputs": [
        {
          "output_type": "stream",
          "text": [
            "<PrefetchDataset shapes: ((), ()), types: (tf.string, tf.int64)>\n",
            "<PrefetchDataset shapes: ((), ()), types: (tf.string, tf.int64)>\n"
          ],
          "name": "stdout"
        }
      ]
    },
    {
      "cell_type": "code",
      "metadata": {
        "colab": {
          "base_uri": "https://localhost:8080/"
        },
        "id": "DEswmgPocO8Z",
        "outputId": "77ebb81c-1863-4cd0-cb36-359a7f90d105"
      },
      "source": [
        "for example, label in train_ds.take(1):\n",
        "  print('Example: ', example)\n",
        "  print('Label: ', label)"
      ],
      "execution_count": 123,
      "outputs": [
        {
          "output_type": "stream",
          "text": [
            "Example:  tf.Tensor(b\"This was an absolutely terrible movie. Don't be lured in by Christopher Walken or Michael Ironside. Both are great actors, but this must simply be their worst role in history. Even their great acting could not redeem this movie's ridiculous storyline. This movie is an early nineties US propaganda piece. The most pathetic scenes were those when the Columbian rebels were making their cases for revolutions. Maria Conchita Alonso appeared phony, and her pseudo-love affair with Walken was nothing but a pathetic emotional plug in a movie that was devoid of any real meaning. I am disappointed that there are movies like this, ruining actor's like Christopher Walken's good name. I could barely sit through it.\", shape=(), dtype=string)\n",
            "Label:  tf.Tensor(0, shape=(), dtype=int64)\n"
          ],
          "name": "stdout"
        }
      ]
    },
    {
      "cell_type": "code",
      "metadata": {
        "id": "Pv0E6yI6dJHY"
      },
      "source": [
        "training_sentences = []\n",
        "training_labels = []\n",
        "\n",
        "testing_sentences = []\n",
        "testing_labels = []\n",
        "\n",
        "# str(s.tonumpy()) is needed in Python3 instead of just s.numpy()\n",
        "for example,label in train_ds:\n",
        "  training_sentences.append(example.numpy().decode('utf8'))\n",
        "  training_labels.append(label.numpy())\n",
        "  \n",
        "for example,label in test_ds:\n",
        "  testing_sentences.append(example.numpy().decode('utf8'))\n",
        "  testing_labels.append(label.numpy())\n",
        "  \n",
        "training_labels_final = np.array(training_labels)\n",
        "testing_labels_final = np.array(testing_labels)"
      ],
      "execution_count": 126,
      "outputs": []
    },
    {
      "cell_type": "code",
      "metadata": {
        "colab": {
          "base_uri": "https://localhost:8080/"
        },
        "id": "G5tdDbeMdlph",
        "outputId": "d7cc3215-b3bf-4a8c-ecda-aebc145a4214"
      },
      "source": [
        "import random\n",
        "i = random.randint(0, len(train_data))\n",
        "\n",
        "print(train_data[i])\n",
        "print(train_labels[i])"
      ],
      "execution_count": 113,
      "outputs": [
        {
          "output_type": "stream",
          "text": [
            "The comparison to Sleuth, the earlier stage-play-turned-film, is obvious and upon my first viewing I too thought Sleuth was better, but Deathtrap has, at least for me, many more repeat viewings in it than Sleuth.<br /><br />I purchased Deathrap in the bargain bin at Wal-Mart, figuring that it had Caine and the underrated Reeve and was worth the 6 bucks. It was one of the finest DVD purchases I could've picked up.<br /><br />It's one of those best-kept-secrets that movie buffs always are always delighted to discover. And it's totally worth repeat viewings.<br /><br />Though Laurence Olivier and Michael Caine turned in bravado performances in Sleuth, I was doubly impressed with Christopher Reeve as Clifford Anderson. Reeve, rightfully associated with his now legendary portrayal of Superman, stole the show in what should've been an Oscar worthy performance. I've always felt Reeve was a type-cast actor who didn't get much of a chance to shine outside of the Superman films and a few other flawed but entertaining films like Somewhere in Time, but this film shows that his potential was truly tapped and put to use, thank goodness.<br /><br />I absolutely relished Michael Caine's performance. He was glib, deliciously manipulative and sadistic. And watching him work with Reeve and Dyan Cannon was an absolute pleasure. In fact, it was thanks to this movie that I got into a \"Michael Caine phase\" and started renting as much of his stuff as humanly possible. <br /><br />As for Deathtrap, there's enough juicy dialogue in here to fill up its \"memorable quotes\" section. (Unfortunately, much of the dialogue would inherently spoil the immensely entertaining plot).<br /><br />It's really, really hard to talk about the movie without spoiling important plot points that are infinitely more fun to discover on your own. Needless to say, it's a must-see. But for me, it was the greatest and most rewarding blind purchase of all time.<br /><br />Repeat viewings are a must. <br /><br />And it deserves to sit alongside Sleuth on your DVD shelf.<br /><br />I'll leave you with this beautifully written quote from the film: \"I wonder if it wouldn't be...well...just a trifle starry-eyed of me to enter into such a risky and exciting collaboration...where I could count on no sense of moral obligation...whatsoever.\"\n",
            "1\n"
          ],
          "name": "stdout"
        }
      ]
    },
    {
      "cell_type": "code",
      "metadata": {
        "id": "E9AWLu1MiSQg"
      },
      "source": [
        "vocab_size = 10000\n",
        "embedding_dim = 16\n",
        "max_length = 150\n",
        "trunc_type='post'\n",
        "oov_tok = \"<OOV>\"\n",
        "\n",
        "\n",
        "from tensorflow.keras.preprocessing.text import Tokenizer\n",
        "from tensorflow.keras.preprocessing.sequence import pad_sequences\n",
        "\n",
        "tokenizer = Tokenizer(num_words = vocab_size, oov_token=oov_tok)\n",
        "tokenizer.fit_on_texts(training_sentences)\n",
        "tokenizer.fit_on_texts(testing_sentences)\n",
        "word_index = tokenizer.word_index\n",
        "training_sequences = tokenizer.texts_to_sequences(training_sentences)\n",
        "testing_sequences = tokenizer.texts_to_sequences(testing_sentences)"
      ],
      "execution_count": 127,
      "outputs": []
    },
    {
      "cell_type": "code",
      "metadata": {
        "colab": {
          "base_uri": "https://localhost:8080/"
        },
        "id": "hUP2sTK9hxUH",
        "outputId": "81e6dc74-e7a8-408b-d9fd-bb4d4c8209b5"
      },
      "source": [
        "train_data = tf.keras.preprocessing.sequence.pad_sequences(training_sequences, \n",
        "                                                           maxlen=MAX_LENGTH,\n",
        "                                                           padding='post')\n",
        "\n",
        "test_data = tf.keras.preprocessing.sequence.pad_sequences(testing_sequences,\n",
        "                                                          maxlen=MAX_LENGTH,\n",
        "                                                          padding='post')\n",
        "\n",
        "print(train_data[0])\n",
        "print(test_data[0])"
      ],
      "execution_count": 128,
      "outputs": [
        {
          "output_type": "stream",
          "text": [
            "[  12   14   33  420  382   18   90   27    1    9   32 1460 4087   39\n",
            "  499    1  196   24   79  151   19   12  207  331   27   66  247  215\n",
            "    9  485   58   66   79  114   99   22 5800   12 1381  647  774   12\n",
            "   18    7   33  405 9016  177 2328  413    2   89 1152  135   71  144\n",
            "   51    2    1 6553   71  233   66 3097   16    1 3150    1    1 1531\n",
            " 4680    3   41 3805  113 1505   17 4087   14  162   19    4 1152  888\n",
            " 9017    9    4   18   13   14 3855    5  100  145 1159   11  236  681\n",
            "   13   47   24   98   38   12 8162 5238   38 1460    1   50  390   11\n",
            "   99 1184  847  141   10    0    0    0    0    0    0    0    0    0\n",
            "    0    0    0    0    0    0    0    0    0    0    0    0    0    0\n",
            "    0    0    0    0    0    0    0    0    0    0    0    0    0    0\n",
            "    0    0    0    0    0    0    0    0    0    0    0    0    0    0\n",
            "    0    0    0    0    0    0    0    0    0    0    0    0    0    0\n",
            "    0    0    0    0    0    0    0    0    0    0    0    0    0    0\n",
            "    0    0    0    0    0    0    0    0    0    0    0    0    0    0\n",
            "    0    0    0    0    0    0    0    0    0    0    0    0    0    0\n",
            "    0    0    0    0    0    0    0    0    0    0    0    0    0    0\n",
            "    0    0    0    0    0    0    0    0    0    0    0    0    0    0\n",
            "    0    0    0    0]\n",
            "[  47   24  105   13   95 3837   16  745 6220   10   14  317    5    2\n",
            "  587  350   16 1651 1459    1   16  611 9371 4689    1  727    6   13\n",
            " 1012    1    1  420  492    1    4    1  342 3678   20  233    3   15\n",
            " 5939    3   15 1645   15  100    5    2 3928   98   11  756 1453   12\n",
            "  250  235   11  211    2  364 5374    3   58   92   11   90  102   11\n",
            " 1453  180   12  250   35    6 1086    1  635    7 4341    1    4    1\n",
            "  342    7   35 9216  364    5 1431    1   13   28   59   26    6  847\n",
            "  176   17    4  959    5   12  228    3   78    4  348   32  348 5999\n",
            "    5   10    6 1404 1117    2 5398    1    3    1    5   10  171  320\n",
            "    7 1279 4137    4  753 2017    5    4  248 2707  165    3    2  368\n",
            "   30  184   24 1195  223  620    5    2  122    2  343 1308 7472   28\n",
            "    1  863   37    4   20   38   12    1    4    1  342    7    4   20\n",
            "  645   56   46  216    0    0    0    0    0    0    0    0    0    0\n",
            "    0    0    0    0    0    0    0    0    0    0    0    0    0    0\n",
            "    0    0    0    0    0    0    0    0    0    0    0    0    0    0\n",
            "    0    0    0    0    0    0    0    0    0    0    0    0    0    0\n",
            "    0    0    0    0    0    0    0    0    0    0    0    0    0    0\n",
            "    0    0    0    0    0    0    0    0    0    0    0    0    0    0\n",
            "    0    0    0    0]\n"
          ],
          "name": "stdout"
        }
      ]
    },
    {
      "cell_type": "code",
      "metadata": {
        "colab": {
          "base_uri": "https://localhost:8080/"
        },
        "id": "cXExDo8Foz12",
        "outputId": "11d8eabc-ad89-4de6-8ea1-e55ec04e3880"
      },
      "source": [
        "print(type(train_data))\n",
        "print(type(train_labels))\n",
        "print(type(test_data))\n",
        "print(type(test_labels))"
      ],
      "execution_count": 129,
      "outputs": [
        {
          "output_type": "stream",
          "text": [
            "<class 'numpy.ndarray'>\n",
            "<class 'numpy.ndarray'>\n",
            "<class 'numpy.ndarray'>\n",
            "<class 'numpy.ndarray'>\n"
          ],
          "name": "stdout"
        }
      ]
    },
    {
      "cell_type": "code",
      "metadata": {
        "id": "lhFEUP48mv7c"
      },
      "source": [
        "class Callback(tf.keras.callbacks.Callback):\n",
        "  def on_epoch_end(self, epoch, logs={}):\n",
        "    if (logs.get('accuracy') > 0.97):\n",
        "      print('97% accuracy reached, stopping training')\n",
        "      self.model.stop_training = True\n",
        "\n",
        "callback=Callback()"
      ],
      "execution_count": 130,
      "outputs": []
    },
    {
      "cell_type": "code",
      "metadata": {
        "colab": {
          "base_uri": "https://localhost:8080/"
        },
        "id": "W-T8tT0SfiMh",
        "outputId": "e6888d2b-7b51-4496-a1f0-9df2cd3ecb2e"
      },
      "source": [
        "model = tf.keras.Sequential([\n",
        "  tf.keras.layers.Embedding(vocab_size, embedding_dim, input_length=max_length),\n",
        "  tf.keras.layers.Bidirectional(tf.keras.layers.LSTM(64, return_sequences=True)),\n",
        "  tf.keras.layers.LSTM(64),\n",
        "  tf.keras.layers.Flatten(),\n",
        "  tf.keras.layers.Dense(128, activation='relu'),\n",
        "  tf.keras.layers.Dense(64, activation='relu'),\n",
        "  tf.keras.layers.Dense(32, activation='relu'),\n",
        "  tf.keras.layers.Dense(1, activation='sigmoid'),\n",
        "])\n",
        "\n",
        "model.compile(loss='binary_crossentropy',\n",
        "              optimizer='adam',\n",
        "              metrics=['accuracy'])\n",
        "history = model.fit(train_data, train_labels,\n",
        "                    epochs=10,\n",
        "                    validation_data=(test_data, test_labels),\n",
        "                    batch_size=32)"
      ],
      "execution_count": 134,
      "outputs": [
        {
          "output_type": "stream",
          "text": [
            "Epoch 1/10\n",
            "WARNING:tensorflow:Model was constructed with shape (None, 150) for input KerasTensor(type_spec=TensorSpec(shape=(None, 150), dtype=tf.float32, name='embedding_9_input'), name='embedding_9_input', description=\"created by layer 'embedding_9_input'\"), but it was called on an input with incompatible shape (None, 256).\n"
          ],
          "name": "stdout"
        },
        {
          "output_type": "stream",
          "text": [
            "WARNING:tensorflow:Model was constructed with shape (None, 150) for input KerasTensor(type_spec=TensorSpec(shape=(None, 150), dtype=tf.float32, name='embedding_9_input'), name='embedding_9_input', description=\"created by layer 'embedding_9_input'\"), but it was called on an input with incompatible shape (None, 256).\n"
          ],
          "name": "stderr"
        },
        {
          "output_type": "stream",
          "text": [
            "WARNING:tensorflow:Model was constructed with shape (None, 150) for input KerasTensor(type_spec=TensorSpec(shape=(None, 150), dtype=tf.float32, name='embedding_9_input'), name='embedding_9_input', description=\"created by layer 'embedding_9_input'\"), but it was called on an input with incompatible shape (None, 256).\n"
          ],
          "name": "stdout"
        },
        {
          "output_type": "stream",
          "text": [
            "WARNING:tensorflow:Model was constructed with shape (None, 150) for input KerasTensor(type_spec=TensorSpec(shape=(None, 150), dtype=tf.float32, name='embedding_9_input'), name='embedding_9_input', description=\"created by layer 'embedding_9_input'\"), but it was called on an input with incompatible shape (None, 256).\n"
          ],
          "name": "stderr"
        },
        {
          "output_type": "stream",
          "text": [
            "782/782 [==============================] - ETA: 0s - loss: 0.6907 - accuracy: 0.5244WARNING:tensorflow:Model was constructed with shape (None, 150) for input KerasTensor(type_spec=TensorSpec(shape=(None, 150), dtype=tf.float32, name='embedding_9_input'), name='embedding_9_input', description=\"created by layer 'embedding_9_input'\"), but it was called on an input with incompatible shape (None, 256).\n"
          ],
          "name": "stdout"
        },
        {
          "output_type": "stream",
          "text": [
            "WARNING:tensorflow:Model was constructed with shape (None, 150) for input KerasTensor(type_spec=TensorSpec(shape=(None, 150), dtype=tf.float32, name='embedding_9_input'), name='embedding_9_input', description=\"created by layer 'embedding_9_input'\"), but it was called on an input with incompatible shape (None, 256).\n"
          ],
          "name": "stderr"
        },
        {
          "output_type": "stream",
          "text": [
            "\b\b\b\b\b\b\b\b\b\b\b\b\b\b\b\b\b\b\b\b\b\b\b\b\b\b\b\b\b\b\b\b\b\b\b\b\b\b\b\b\b\b\b\b\b\b\b\b\b\b\b\b\b\b\b\b\b\b\b\b\b\b\b\b\b\b\b\b\b\b\b\b\b\b\b\b\b\b\b\b\b\b\b\b\r782/782 [==============================] - 359s 452ms/step - loss: 0.6907 - accuracy: 0.5244 - val_loss: 0.6885 - val_accuracy: 0.5296\n",
            "Epoch 2/10\n",
            "782/782 [==============================] - 357s 456ms/step - loss: 0.6784 - accuracy: 0.5690 - val_loss: 0.6642 - val_accuracy: 0.5913\n",
            "Epoch 3/10\n",
            "782/782 [==============================] - 348s 445ms/step - loss: 0.6378 - accuracy: 0.6180 - val_loss: 0.5998 - val_accuracy: 0.6206\n",
            "Epoch 4/10\n",
            "782/782 [==============================] - 360s 460ms/step - loss: 0.5992 - accuracy: 0.6298 - val_loss: 0.4785 - val_accuracy: 0.8034\n",
            "Epoch 5/10\n",
            "782/782 [==============================] - 352s 450ms/step - loss: 0.3280 - accuracy: 0.8664 - val_loss: 0.3273 - val_accuracy: 0.8649\n",
            "Epoch 6/10\n",
            "782/782 [==============================] - 361s 462ms/step - loss: 0.2156 - accuracy: 0.9190 - val_loss: 0.3440 - val_accuracy: 0.8641\n",
            "Epoch 7/10\n",
            "782/782 [==============================] - 348s 445ms/step - loss: 0.1657 - accuracy: 0.9395 - val_loss: 0.3879 - val_accuracy: 0.8629\n",
            "Epoch 8/10\n",
            "782/782 [==============================] - 342s 437ms/step - loss: 0.1236 - accuracy: 0.9585 - val_loss: 0.3700 - val_accuracy: 0.8660\n",
            "Epoch 9/10\n",
            "782/782 [==============================] - 335s 428ms/step - loss: 0.0913 - accuracy: 0.9721 - val_loss: 0.5274 - val_accuracy: 0.8524\n",
            "Epoch 10/10\n",
            "782/782 [==============================] - 342s 437ms/step - loss: 0.0681 - accuracy: 0.9807 - val_loss: 0.4666 - val_accuracy: 0.8654\n"
          ],
          "name": "stdout"
        }
      ]
    },
    {
      "cell_type": "code",
      "metadata": {
        "id": "0v3A0WLVnCXj"
      },
      "source": [
        "def plot(history, metric):\n",
        "  plt.plot(history.history[metric], label=metric)\n",
        "  plt.plot(history.history['val_'+metric], label='validation')\n",
        "  plt.title('model performance')\n",
        "  plt.xlabel('Epochs')\n",
        "  plt.ylabel(metric)\n",
        "  plt.legend()"
      ],
      "execution_count": 157,
      "outputs": []
    },
    {
      "cell_type": "code",
      "metadata": {
        "colab": {
          "base_uri": "https://localhost:8080/",
          "height": 295
        },
        "id": "1SGtGWkhJtOq",
        "outputId": "fc25ea36-d982-404f-d5ff-70c5b9569c29"
      },
      "source": [
        "plot(history=history, metric='accuracy')"
      ],
      "execution_count": 158,
      "outputs": [
        {
          "output_type": "display_data",
          "data": {
            "image/png": "[encoded data removed]",
            "text/plain": [
              "<Figure size 432x288 with 1 Axes>"
            ]
          },
          "metadata": {
            "tags": [],
            "needs_background": "light"
          }
        }
      ]
    },
    {
      "cell_type": "code",
      "metadata": {
        "colab": {
          "base_uri": "https://localhost:8080/",
          "height": 295
        },
        "id": "3Ab6xqc9J1Nh",
        "outputId": "704e2dce-ee2c-4fec-b6a1-c5c4a159315b"
      },
      "source": [
        "plot(history=history, metric='loss')"
      ],
      "execution_count": 159,
      "outputs": [
        {
          "output_type": "display_data",
          "data": {
            "image/png": "[encoded data removed]",
            "text/plain": [
              "<Figure size 432x288 with 1 Axes>"
            ]
          },
          "metadata": {
            "tags": [],
            "needs_background": "light"
          }
        }
      ]
    },
    {
      "cell_type": "code",
      "metadata": {
        "id": "8O2uT3RrKhCu"
      },
      "source": [
        "new_review = ['this movie is not worth seeing. It was terrible in every way']"
      ],
      "execution_count": 227,
      "outputs": []
    },
    {
      "cell_type": "code",
      "metadata": {
        "id": "rwIEYCZJMtPb"
      },
      "source": [
        "new_reviews_list = [['this movie is not worth seeing. It was terrible in every way'],\n",
        "                    ['the moview was great'],\n",
        "                    ['the film was alright i guess. the actors were cool'],\n",
        "                    ['the movie wasnt as good as the book']]\n",
        "new_reviews_labels = [0, 1, 1, 0]"
      ],
      "execution_count": 228,
      "outputs": []
    },
    {
      "cell_type": "code",
      "metadata": {
        "colab": {
          "base_uri": "https://localhost:8080/"
        },
        "id": "Y9USxjIsKqpy",
        "outputId": "6f661f37-4541-40c6-b2ac-5d738e67efb5"
      },
      "source": [
        "def predict(review, label):\n",
        "  tokenizer.fit_on_texts(review)\n",
        "  review_sequence = tokenizer.texts_to_sequences(review)\n",
        "  padded_review = tf.keras.preprocessing.sequence.pad_sequences(review_sequence)\n",
        "  prediction = model.predict(padded_review)\n",
        "\n",
        "  if prediction < 0.5:\n",
        "    prediction = 0\n",
        "  else:\n",
        "    prediction = 1\n",
        "\n",
        "  print('pridiction: ', prediction)\n",
        "  print('Review: ', review)\n",
        "  print('Label: ', label)\n",
        "\n",
        "  if prediction - label == 0:\n",
        "    print('Correct!')\n",
        "  else:\n",
        "    print('Incorrect!')\n",
        "\n",
        "i = random.randint(0, len(new_reviews_list) - 1)\n",
        "predict(review=new_reviews_list[i], label=new_reviews_labels[i])"
      ],
      "execution_count": 238,
      "outputs": [
        {
          "output_type": "stream",
          "text": [
            "pridiction:  1\n",
            "Review:  ['the moview was great']\n",
            "Label:  1\n",
            "Correct!\n"
          ],
          "name": "stdout"
        }
      ]
    },
    {
      "cell_type": "code",
      "metadata": {
        "id": "l197BBU8VrcT"
      },
      "source": [
        ""
      ],
      "execution_count": null,
      "outputs": []
    }
  ]
}